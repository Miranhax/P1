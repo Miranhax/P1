{
  "nbformat": 4,
  "nbformat_minor": 0,
  "metadata": {
    "colab": {
      "provenance": [],
      "authorship_tag": "ABX9TyPhUZDnRIPz50hYVx6HZYKK",
      "include_colab_link": true
    },
    "kernelspec": {
      "name": "python3",
      "display_name": "Python 3"
    },
    "language_info": {
      "name": "python"
    }
  },
  "cells": [
    {
      "cell_type": "markdown",
      "metadata": {
        "id": "view-in-github",
        "colab_type": "text"
      },
      "source": [
        "<a href=\"https://colab.research.google.com/github/Miranhax/P1/blob/main/P1.ipynb\" target=\"_parent\"><img src=\"https://colab.research.google.com/assets/colab-badge.svg\" alt=\"Open In Colab\"/></a>"
      ]
    },
    {
      "cell_type": "code",
      "source": [
        "# prompt: !pip install pycryptodome tensorflow numpy pillow\n",
        "\n",
        "!pip install pycryptodome tensorflow numpy pillow"
      ],
      "metadata": {
        "colab": {
          "base_uri": "https://localhost:8080/"
        },
        "id": "BuaonoIJ_Ui-",
        "outputId": "68001bdd-3d77-4ae8-bf2b-31e19ff59de4"
      },
      "execution_count": 1,
      "outputs": [
        {
          "output_type": "stream",
          "name": "stdout",
          "text": [
            "Collecting pycryptodome\n",
            "  Downloading pycryptodome-3.22.0-cp37-abi3-manylinux_2_17_x86_64.manylinux2014_x86_64.whl.metadata (3.4 kB)\n",
            "Requirement already satisfied: tensorflow in /usr/local/lib/python3.11/dist-packages (2.18.0)\n",
            "Requirement already satisfied: numpy in /usr/local/lib/python3.11/dist-packages (2.0.2)\n",
            "Requirement already satisfied: pillow in /usr/local/lib/python3.11/dist-packages (11.1.0)\n",
            "Requirement already satisfied: absl-py>=1.0.0 in /usr/local/lib/python3.11/dist-packages (from tensorflow) (1.4.0)\n",
            "Requirement already satisfied: astunparse>=1.6.0 in /usr/local/lib/python3.11/dist-packages (from tensorflow) (1.6.3)\n",
            "Requirement already satisfied: flatbuffers>=24.3.25 in /usr/local/lib/python3.11/dist-packages (from tensorflow) (25.2.10)\n",
            "Requirement already satisfied: gast!=0.5.0,!=0.5.1,!=0.5.2,>=0.2.1 in /usr/local/lib/python3.11/dist-packages (from tensorflow) (0.6.0)\n",
            "Requirement already satisfied: google-pasta>=0.1.1 in /usr/local/lib/python3.11/dist-packages (from tensorflow) (0.2.0)\n",
            "Requirement already satisfied: libclang>=13.0.0 in /usr/local/lib/python3.11/dist-packages (from tensorflow) (18.1.1)\n",
            "Requirement already satisfied: opt-einsum>=2.3.2 in /usr/local/lib/python3.11/dist-packages (from tensorflow) (3.4.0)\n",
            "Requirement already satisfied: packaging in /usr/local/lib/python3.11/dist-packages (from tensorflow) (24.2)\n",
            "Requirement already satisfied: protobuf!=4.21.0,!=4.21.1,!=4.21.2,!=4.21.3,!=4.21.4,!=4.21.5,<6.0.0dev,>=3.20.3 in /usr/local/lib/python3.11/dist-packages (from tensorflow) (5.29.3)\n",
            "Requirement already satisfied: requests<3,>=2.21.0 in /usr/local/lib/python3.11/dist-packages (from tensorflow) (2.32.3)\n",
            "Requirement already satisfied: setuptools in /usr/local/lib/python3.11/dist-packages (from tensorflow) (75.1.0)\n",
            "Requirement already satisfied: six>=1.12.0 in /usr/local/lib/python3.11/dist-packages (from tensorflow) (1.17.0)\n",
            "Requirement already satisfied: termcolor>=1.1.0 in /usr/local/lib/python3.11/dist-packages (from tensorflow) (2.5.0)\n",
            "Requirement already satisfied: typing-extensions>=3.6.6 in /usr/local/lib/python3.11/dist-packages (from tensorflow) (4.12.2)\n",
            "Requirement already satisfied: wrapt>=1.11.0 in /usr/local/lib/python3.11/dist-packages (from tensorflow) (1.17.2)\n",
            "Requirement already satisfied: grpcio<2.0,>=1.24.3 in /usr/local/lib/python3.11/dist-packages (from tensorflow) (1.71.0)\n",
            "Requirement already satisfied: tensorboard<2.19,>=2.18 in /usr/local/lib/python3.11/dist-packages (from tensorflow) (2.18.0)\n",
            "Requirement already satisfied: keras>=3.5.0 in /usr/local/lib/python3.11/dist-packages (from tensorflow) (3.8.0)\n",
            "Requirement already satisfied: h5py>=3.11.0 in /usr/local/lib/python3.11/dist-packages (from tensorflow) (3.13.0)\n",
            "Requirement already satisfied: ml-dtypes<0.5.0,>=0.4.0 in /usr/local/lib/python3.11/dist-packages (from tensorflow) (0.4.1)\n",
            "Requirement already satisfied: tensorflow-io-gcs-filesystem>=0.23.1 in /usr/local/lib/python3.11/dist-packages (from tensorflow) (0.37.1)\n",
            "Requirement already satisfied: wheel<1.0,>=0.23.0 in /usr/local/lib/python3.11/dist-packages (from astunparse>=1.6.0->tensorflow) (0.45.1)\n",
            "Requirement already satisfied: rich in /usr/local/lib/python3.11/dist-packages (from keras>=3.5.0->tensorflow) (13.9.4)\n",
            "Requirement already satisfied: namex in /usr/local/lib/python3.11/dist-packages (from keras>=3.5.0->tensorflow) (0.0.8)\n",
            "Requirement already satisfied: optree in /usr/local/lib/python3.11/dist-packages (from keras>=3.5.0->tensorflow) (0.14.1)\n",
            "Requirement already satisfied: charset-normalizer<4,>=2 in /usr/local/lib/python3.11/dist-packages (from requests<3,>=2.21.0->tensorflow) (3.4.1)\n",
            "Requirement already satisfied: idna<4,>=2.5 in /usr/local/lib/python3.11/dist-packages (from requests<3,>=2.21.0->tensorflow) (3.10)\n",
            "Requirement already satisfied: urllib3<3,>=1.21.1 in /usr/local/lib/python3.11/dist-packages (from requests<3,>=2.21.0->tensorflow) (2.3.0)\n",
            "Requirement already satisfied: certifi>=2017.4.17 in /usr/local/lib/python3.11/dist-packages (from requests<3,>=2.21.0->tensorflow) (2025.1.31)\n",
            "Requirement already satisfied: markdown>=2.6.8 in /usr/local/lib/python3.11/dist-packages (from tensorboard<2.19,>=2.18->tensorflow) (3.7)\n",
            "Requirement already satisfied: tensorboard-data-server<0.8.0,>=0.7.0 in /usr/local/lib/python3.11/dist-packages (from tensorboard<2.19,>=2.18->tensorflow) (0.7.2)\n",
            "Requirement already satisfied: werkzeug>=1.0.1 in /usr/local/lib/python3.11/dist-packages (from tensorboard<2.19,>=2.18->tensorflow) (3.1.3)\n",
            "Requirement already satisfied: MarkupSafe>=2.1.1 in /usr/local/lib/python3.11/dist-packages (from werkzeug>=1.0.1->tensorboard<2.19,>=2.18->tensorflow) (3.0.2)\n",
            "Requirement already satisfied: markdown-it-py>=2.2.0 in /usr/local/lib/python3.11/dist-packages (from rich->keras>=3.5.0->tensorflow) (3.0.0)\n",
            "Requirement already satisfied: pygments<3.0.0,>=2.13.0 in /usr/local/lib/python3.11/dist-packages (from rich->keras>=3.5.0->tensorflow) (2.18.0)\n",
            "Requirement already satisfied: mdurl~=0.1 in /usr/local/lib/python3.11/dist-packages (from markdown-it-py>=2.2.0->rich->keras>=3.5.0->tensorflow) (0.1.2)\n",
            "Downloading pycryptodome-3.22.0-cp37-abi3-manylinux_2_17_x86_64.manylinux2014_x86_64.whl (2.3 MB)\n",
            "\u001b[2K   \u001b[90m━━━━━━━━━━━━━━━━━━━━━━━━━━━━━━━━━━━━━━━━\u001b[0m \u001b[32m2.3/2.3 MB\u001b[0m \u001b[31m20.1 MB/s\u001b[0m eta \u001b[36m0:00:00\u001b[0m\n",
            "\u001b[?25hInstalling collected packages: pycryptodome\n",
            "Successfully installed pycryptodome-3.22.0\n"
          ]
        }
      ]
    },
    {
      "cell_type": "code",
      "source": [
        "# Importando bibliotecas\n",
        "from Crypto.Cipher import AES\n",
        "from Crypto.Random import get_random_bytes\n",
        "import numpy as np\n",
        "from PIL import Image\n",
        "import tensorflow as tf\n",
        "\n",
        "# Simulação de dados de neuroimagem (uma imagem simples)\n",
        "def criar_imagem_simulada():\n",
        "    # Cria uma imagem 128x128 com valores aleatórios (simulando uma ressonância magnética)\n",
        "    imagem = np.random.rand(128, 128) * 255\n",
        "    imagem = Image.fromarray(imagem.astype('uint8'))\n",
        "    imagem.save(\"neuroimagem.png\")\n",
        "    return imagem\n",
        "\n",
        "# Criptografar a imagem\n",
        "def criptografar_imagem(caminho_imagem, chave):\n",
        "    # Abrir a imagem\n",
        "    with open(caminho_imagem, \"rb\") as f:\n",
        "        dados = f.read()\n",
        "\n",
        "    # Criar um cifrador AES\n",
        "    cifrador = AES.new(chave, AES.MODE_EAX)\n",
        "    nonce = cifrador.nonce\n",
        "    dados_criptografados, tag = cifrador.encrypt_and_digest(dados)\n",
        "\n",
        "    # Salvar os dados criptografados\n",
        "    with open(\"neuroimagem_criptografada.bin\", \"wb\") as f:\n",
        "        f.write(nonce + tag + dados_criptografados)\n",
        "\n",
        "    print(\"Imagem criptografada e salva como 'neuroimagem_criptografada.bin'\")\n",
        "\n",
        "# Descriptografar a imagem\n",
        "def descriptografar_imagem(caminho_criptografado, chave):\n",
        "    # Ler os dados criptografados\n",
        "    with open(caminho_criptografado, \"rb\") as f:\n",
        "        dados = f.read()\n",
        "\n",
        "    nonce = dados[:16]  # Os primeiros 16 bytes são o nonce\n",
        "    tag = dados[16:32]  # Os próximos 16 bytes são a tag\n",
        "    dados_criptografados = dados[32:]  # O restante são os dados criptografados\n",
        "\n",
        "    # Criar um cifrador AES\n",
        "    cifrador = AES.new(chave, AES.MODE_EAX, nonce=nonce)\n",
        "    dados_descriptografados = cifrador.decrypt_and_verify(dados_criptografados, tag)\n",
        "\n",
        "    # Salvar a imagem descriptografada\n",
        "    with open(\"neuroimagem_descriptografada.png\", \"wb\") as f:\n",
        "        f.write(dados_descriptografados)\n",
        "\n",
        "    print(\"Imagem descriptografada e salva como 'neuroimagem_descriptografada.png'\")\n",
        "\n",
        "# Simulação de processamento cerebral (usando TensorFlow)\n",
        "def simular_processamento_cerebral(imagem):\n",
        "    # Simular uma rede neural simples para processamento de imagens\n",
        "    modelo = tf.keras.Sequential([\n",
        "        tf.keras.layers.Flatten(input_shape=(128, 128)),\n",
        "        tf.keras.layers.Dense(128, activation='relu'),\n",
        "        tf.keras.layers.Dense(10)\n",
        "    ])\n",
        "\n",
        "    # Converter a imagem para um array numpy\n",
        "    imagem_array = np.array(imagem) / 255.0\n",
        "    imagem_array = np.expand_dims(imagem_array, axis=0)\n",
        "\n",
        "    # Fazer uma \"previsão\" (simulação de processamento)\n",
        "    resultado = modelo.predict(imagem_array)\n",
        "    print(\"Resultado simulado do processamento cerebral:\", resultado)\n",
        "\n",
        "# Executar o código\n",
        "if __name__ == \"__main__\":\n",
        "    # Criar uma chave AES de 256 bits\n",
        "    chave = get_random_bytes(32)\n",
        "\n",
        "    # Criar uma imagem simulada\n",
        "    imagem = criar_imagem_simulada()\n",
        "\n",
        "    # Criptografar a imagem\n",
        "    criptografar_imagem(\"neuroimagem.png\", chave)\n",
        "\n",
        "    # Descriptografar a imagem\n",
        "    descriptografar_imagem(\"neuroimagem_criptografada.bin\", chave)\n",
        "\n",
        "    # Simular processamento cerebral\n",
        "    simular_processamento_cerebral(imagem)"
      ],
      "metadata": {
        "colab": {
          "base_uri": "https://localhost:8080/"
        },
        "id": "9mZSEYoL_rva",
        "outputId": "2186103a-d45d-40c0-dfcb-484a23291440"
      },
      "execution_count": 2,
      "outputs": [
        {
          "output_type": "stream",
          "name": "stdout",
          "text": [
            "Imagem criptografada e salva como 'neuroimagem_criptografada.bin'\n",
            "Imagem descriptografada e salva como 'neuroimagem_descriptografada.png'\n"
          ]
        },
        {
          "output_type": "stream",
          "name": "stderr",
          "text": [
            "/usr/local/lib/python3.11/dist-packages/keras/src/layers/reshaping/flatten.py:37: UserWarning: Do not pass an `input_shape`/`input_dim` argument to a layer. When using Sequential models, prefer using an `Input(shape)` object as the first layer in the model instead.\n",
            "  super().__init__(**kwargs)\n"
          ]
        },
        {
          "output_type": "stream",
          "name": "stdout",
          "text": [
            "\u001b[1m1/1\u001b[0m \u001b[32m━━━━━━━━━━━━━━━━━━━━\u001b[0m\u001b[37m\u001b[0m \u001b[1m0s\u001b[0m 151ms/step\n",
            "Resultado simulado do processamento cerebral: [[-1.0303407  -0.11193293  0.9379121  -0.08633608 -0.29562432  0.00451344\n",
            "  -0.08133182  0.56364    -1.6781763   1.702053  ]]\n"
          ]
        }
      ]
    }
  ]
}